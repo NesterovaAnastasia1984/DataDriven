{
 "cells": [
  {
   "cell_type": "markdown",
   "metadata": {},
   "source": [
    "# Моделирование методом Монте-Карло\n",
    "\n",
    "В этом блокноте и статье к нему мы рассмотрим простые варианты использования метода Монте-Карло для оптимизации некоторых систем.\n",
    "\n",
    "Загружаем библиотеки."
   ]
  },
  {
   "cell_type": "code",
   "execution_count": 1,
   "metadata": {},
   "outputs": [],
   "source": [
    "import numpy as np\n",
    "import pandas as pd\n",
    "import matplotlib.pyplot as plt"
   ]
  },
  {
   "cell_type": "markdown",
   "metadata": {},
   "source": [
    "# Пример \"Кассы\"\n",
    "\n",
    "В данном примере нам надо рассчитать оптимальное количество касс, которые могут обслужить всех покупателей в определенном интервале времени. \n",
    "\n",
    "Самый простой вариант, когда событтия находятся в одной размерности. Например, это дни, часы и месяцы. В нашем случае это магазин (билетная касса и тд) и нам надо рассчитать оптимальное количество открытых касс в час пик (с 17 до 18 часов). У нас есть две независимые переменные: статистика потока клиентов количества клиентов в час и кличество клиентов которых может обслужить одна касса. Если у нас есть статистика времнеи обслуживания одного клиента, то лучше перевести ее в показатель производительности кассы в час. Это существенно упростит моделирование. \n",
    "\n",
    "В фйле `MC_data.xlsx` содежаться история потока клиентов за год в интервале времени с 17 до 18 часов (лист \"market\") и производительность касс в этот же интевал времени (5 касс, статистика за год). \n",
    "\n",
    "Загрузим и изучим статистики."
   ]
  },
  {
   "cell_type": "code",
   "execution_count": 2,
   "metadata": {},
   "outputs": [],
   "source": [
    "df_market=pd.read_excel('MC_data.xlsx', sheet_name='market')\n",
    "df_kassir=pd.read_excel('MC_data.xlsx', sheet_name='kassir')"
   ]
  },
  {
   "cell_type": "code",
   "execution_count": 3,
   "metadata": {},
   "outputs": [
    {
     "data": {
      "text/html": [
       "<div>\n",
       "<style scoped>\n",
       "    .dataframe tbody tr th:only-of-type {\n",
       "        vertical-align: middle;\n",
       "    }\n",
       "\n",
       "    .dataframe tbody tr th {\n",
       "        vertical-align: top;\n",
       "    }\n",
       "\n",
       "    .dataframe thead th {\n",
       "        text-align: right;\n",
       "    }\n",
       "</style>\n",
       "<table border=\"1\" class=\"dataframe\">\n",
       "  <thead>\n",
       "    <tr style=\"text-align: right;\">\n",
       "      <th></th>\n",
       "      <th>Поток клиентов</th>\n",
       "    </tr>\n",
       "  </thead>\n",
       "  <tbody>\n",
       "    <tr>\n",
       "      <th>0</th>\n",
       "      <td>58</td>\n",
       "    </tr>\n",
       "    <tr>\n",
       "      <th>1</th>\n",
       "      <td>51</td>\n",
       "    </tr>\n",
       "    <tr>\n",
       "      <th>2</th>\n",
       "      <td>48</td>\n",
       "    </tr>\n",
       "    <tr>\n",
       "      <th>3</th>\n",
       "      <td>79</td>\n",
       "    </tr>\n",
       "    <tr>\n",
       "      <th>4</th>\n",
       "      <td>33</td>\n",
       "    </tr>\n",
       "  </tbody>\n",
       "</table>\n",
       "</div>"
      ],
      "text/plain": [
       "   Поток клиентов\n",
       "0              58\n",
       "1              51\n",
       "2              48\n",
       "3              79\n",
       "4              33"
      ]
     },
     "execution_count": 3,
     "metadata": {},
     "output_type": "execute_result"
    }
   ],
   "source": [
    "df_market.head()"
   ]
  },
  {
   "cell_type": "code",
   "execution_count": 4,
   "metadata": {},
   "outputs": [
    {
     "data": {
      "text/html": [
       "<div>\n",
       "<style scoped>\n",
       "    .dataframe tbody tr th:only-of-type {\n",
       "        vertical-align: middle;\n",
       "    }\n",
       "\n",
       "    .dataframe tbody tr th {\n",
       "        vertical-align: top;\n",
       "    }\n",
       "\n",
       "    .dataframe thead th {\n",
       "        text-align: right;\n",
       "    }\n",
       "</style>\n",
       "<table border=\"1\" class=\"dataframe\">\n",
       "  <thead>\n",
       "    <tr style=\"text-align: right;\">\n",
       "      <th></th>\n",
       "      <th>Поток клиентов</th>\n",
       "    </tr>\n",
       "  </thead>\n",
       "  <tbody>\n",
       "    <tr>\n",
       "      <th>count</th>\n",
       "      <td>365.000000</td>\n",
       "    </tr>\n",
       "    <tr>\n",
       "      <th>mean</th>\n",
       "      <td>49.071233</td>\n",
       "    </tr>\n",
       "    <tr>\n",
       "      <th>std</th>\n",
       "      <td>14.811837</td>\n",
       "    </tr>\n",
       "    <tr>\n",
       "      <th>min</th>\n",
       "      <td>21.000000</td>\n",
       "    </tr>\n",
       "    <tr>\n",
       "      <th>25%</th>\n",
       "      <td>37.000000</td>\n",
       "    </tr>\n",
       "    <tr>\n",
       "      <th>50%</th>\n",
       "      <td>47.000000</td>\n",
       "    </tr>\n",
       "    <tr>\n",
       "      <th>75%</th>\n",
       "      <td>60.000000</td>\n",
       "    </tr>\n",
       "    <tr>\n",
       "      <th>max</th>\n",
       "      <td>87.000000</td>\n",
       "    </tr>\n",
       "  </tbody>\n",
       "</table>\n",
       "</div>"
      ],
      "text/plain": [
       "       Поток клиентов\n",
       "count      365.000000\n",
       "mean        49.071233\n",
       "std         14.811837\n",
       "min         21.000000\n",
       "25%         37.000000\n",
       "50%         47.000000\n",
       "75%         60.000000\n",
       "max         87.000000"
      ]
     },
     "execution_count": 4,
     "metadata": {},
     "output_type": "execute_result"
    }
   ],
   "source": [
    "df_market.describe()"
   ]
  },
  {
   "cell_type": "code",
   "execution_count": 5,
   "metadata": {},
   "outputs": [
    {
     "data": {
      "image/png": "[encoded data removed]",
      "text/plain": [
       "<Figure size 1080x216 with 1 Axes>"
      ]
     },
     "metadata": {
      "needs_background": "light"
     },
     "output_type": "display_data"
    }
   ],
   "source": [
    "df_market.plot(figsize=(15,3));"
   ]
  },
  {
   "cell_type": "code",
   "execution_count": 6,
   "metadata": {},
   "outputs": [
    {
     "data": {
      "image/png": "[encoded data removed]",
      "text/plain": [
       "<Figure size 720x288 with 1 Axes>"
      ]
     },
     "metadata": {
      "needs_background": "light"
     },
     "output_type": "display_data"
    }
   ],
   "source": [
    "df_market.hist(figsize=(10,4));"
   ]
  },
  {
   "cell_type": "code",
   "execution_count": 7,
   "metadata": {},
   "outputs": [
    {
     "data": {
      "text/html": [
       "<div>\n",
       "<style scoped>\n",
       "    .dataframe tbody tr th:only-of-type {\n",
       "        vertical-align: middle;\n",
       "    }\n",
       "\n",
       "    .dataframe tbody tr th {\n",
       "        vertical-align: top;\n",
       "    }\n",
       "\n",
       "    .dataframe thead th {\n",
       "        text-align: right;\n",
       "    }\n",
       "</style>\n",
       "<table border=\"1\" class=\"dataframe\">\n",
       "  <thead>\n",
       "    <tr style=\"text-align: right;\">\n",
       "      <th></th>\n",
       "      <th>Поток клиентов</th>\n",
       "    </tr>\n",
       "  </thead>\n",
       "  <tbody>\n",
       "    <tr>\n",
       "      <th>0</th>\n",
       "      <td>36</td>\n",
       "    </tr>\n",
       "  </tbody>\n",
       "</table>\n",
       "</div>"
      ],
      "text/plain": [
       "   Поток клиентов\n",
       "0              36"
      ]
     },
     "execution_count": 7,
     "metadata": {},
     "output_type": "execute_result"
    }
   ],
   "source": [
    "df_market.mode()"
   ]
  },
  {
   "cell_type": "markdown",
   "metadata": {},
   "source": [
    "Мы видим, что случайная величина (поток клиентов) имеет треугольное распределение с модой 36 клиентов/час. "
   ]
  },
  {
   "cell_type": "code",
   "execution_count": 8,
   "metadata": {},
   "outputs": [
    {
     "data": {
      "text/html": [
       "<div>\n",
       "<style scoped>\n",
       "    .dataframe tbody tr th:only-of-type {\n",
       "        vertical-align: middle;\n",
       "    }\n",
       "\n",
       "    .dataframe tbody tr th {\n",
       "        vertical-align: top;\n",
       "    }\n",
       "\n",
       "    .dataframe thead th {\n",
       "        text-align: right;\n",
       "    }\n",
       "</style>\n",
       "<table border=\"1\" class=\"dataframe\">\n",
       "  <thead>\n",
       "    <tr style=\"text-align: right;\">\n",
       "      <th></th>\n",
       "      <th>Производительность кассы</th>\n",
       "    </tr>\n",
       "  </thead>\n",
       "  <tbody>\n",
       "    <tr>\n",
       "      <th>count</th>\n",
       "      <td>1825.000000</td>\n",
       "    </tr>\n",
       "    <tr>\n",
       "      <th>mean</th>\n",
       "      <td>26.003836</td>\n",
       "    </tr>\n",
       "    <tr>\n",
       "      <th>std</th>\n",
       "      <td>6.445664</td>\n",
       "    </tr>\n",
       "    <tr>\n",
       "      <th>min</th>\n",
       "      <td>15.000000</td>\n",
       "    </tr>\n",
       "    <tr>\n",
       "      <th>25%</th>\n",
       "      <td>21.000000</td>\n",
       "    </tr>\n",
       "    <tr>\n",
       "      <th>50%</th>\n",
       "      <td>25.000000</td>\n",
       "    </tr>\n",
       "    <tr>\n",
       "      <th>75%</th>\n",
       "      <td>31.000000</td>\n",
       "    </tr>\n",
       "    <tr>\n",
       "      <th>max</th>\n",
       "      <td>44.000000</td>\n",
       "    </tr>\n",
       "  </tbody>\n",
       "</table>\n",
       "</div>"
      ],
      "text/plain": [
       "       Производительность кассы\n",
       "count               1825.000000\n",
       "mean                  26.003836\n",
       "std                    6.445664\n",
       "min                   15.000000\n",
       "25%                   21.000000\n",
       "50%                   25.000000\n",
       "75%                   31.000000\n",
       "max                   44.000000"
      ]
     },
     "execution_count": 8,
     "metadata": {},
     "output_type": "execute_result"
    }
   ],
   "source": [
    "df_kassir.describe()"
   ]
  },
  {
   "cell_type": "code",
   "execution_count": 9,
   "metadata": {},
   "outputs": [
    {
     "data": {
      "image/png": "[encoded data removed]",
      "text/plain": [
       "<Figure size 432x288 with 1 Axes>"
      ]
     },
     "metadata": {
      "needs_background": "light"
     },
     "output_type": "display_data"
    }
   ],
   "source": [
    "df_kassir.hist();"
   ]
  },
  {
   "cell_type": "code",
   "execution_count": 10,
   "metadata": {},
   "outputs": [
    {
     "data": {
      "text/html": [
       "<div>\n",
       "<style scoped>\n",
       "    .dataframe tbody tr th:only-of-type {\n",
       "        vertical-align: middle;\n",
       "    }\n",
       "\n",
       "    .dataframe tbody tr th {\n",
       "        vertical-align: top;\n",
       "    }\n",
       "\n",
       "    .dataframe thead th {\n",
       "        text-align: right;\n",
       "    }\n",
       "</style>\n",
       "<table border=\"1\" class=\"dataframe\">\n",
       "  <thead>\n",
       "    <tr style=\"text-align: right;\">\n",
       "      <th></th>\n",
       "      <th>Производительность кассы</th>\n",
       "    </tr>\n",
       "  </thead>\n",
       "  <tbody>\n",
       "    <tr>\n",
       "      <th>0</th>\n",
       "      <td>21</td>\n",
       "    </tr>\n",
       "  </tbody>\n",
       "</table>\n",
       "</div>"
      ],
      "text/plain": [
       "   Производительность кассы\n",
       "0                        21"
      ]
     },
     "execution_count": 10,
     "metadata": {},
     "output_type": "execute_result"
    }
   ],
   "source": [
    "df_kassir.mode()"
   ]
  },
  {
   "cell_type": "markdown",
   "metadata": {},
   "source": [
    "Статистика производительности касс также треугольное распределение с модой 21 клиент/час. \n",
    "\n",
    "Сгенерируем по 1000 эксземпляров случайных значений, которые будут соответствовать данным распределениям. Ниже Вы сможете найти примеры создания других видов распределений.\n",
    "\n",
    "Мы будем использовать функции, которые генерируют дробные случайные значения, но округлим их до целых значений. Это не сильно повлияет на качество модели, но упростит нам задачу. \n",
    "\n",
    "- left - минимальное значение\n",
    "- right - максимальное значение\n",
    "- mode - наиболее часто встречаемое значение, мода"
   ]
  },
  {
   "cell_type": "code",
   "execution_count": 11,
   "metadata": {},
   "outputs": [],
   "source": [
    "size=1000\n",
    "market = np.random.triangular(left = 21, mode = 36, right = 87, size = size).astype(int)\n",
    "kassir = np.random.triangular(left = 15, mode = 21, right = 44, size = size).astype(int)"
   ]
  },
  {
   "cell_type": "markdown",
   "metadata": {},
   "source": [
    "Взглянем на результат моделирования. "
   ]
  },
  {
   "cell_type": "code",
   "execution_count": 12,
   "metadata": {},
   "outputs": [
    {
     "data": {
      "image/png": "[encoded data removed]",
      "text/plain": [
       "<Figure size 432x288 with 1 Axes>"
      ]
     },
     "metadata": {
      "needs_background": "light"
     },
     "output_type": "display_data"
    }
   ],
   "source": [
    "plt.hist(market);"
   ]
  },
  {
   "cell_type": "code",
   "execution_count": 13,
   "metadata": {},
   "outputs": [
    {
     "data": {
      "image/png": "[encoded data removed]",
      "text/plain": [
       "<Figure size 432x288 with 1 Axes>"
      ]
     },
     "metadata": {
      "needs_background": "light"
     },
     "output_type": "display_data"
    }
   ],
   "source": [
    "plt.hist(kassir);"
   ]
  },
  {
   "cell_type": "markdown",
   "metadata": {},
   "source": [
    "Моделируем работу двух касс при случайном потоке клиентов, выполняем 1000 экспериментов.\n",
    "\n",
    "Списки nupmy позволяют осуществлять поэлеменнтные операции обращаясь к списку по имени. В данном случае, мы умножаем все элементы списка kassir на два и вычитаем из каждого элемента соответсвующее значение потока клиентов. Далее, считаем какое количество итоговых элементов больше нуля. Те мы смогли обслужить клиентов. "
   ]
  },
  {
   "cell_type": "code",
   "execution_count": 14,
   "metadata": {},
   "outputs": [
    {
     "data": {
      "text/plain": [
       "612"
      ]
     },
     "execution_count": 14,
     "metadata": {},
     "output_type": "execute_result"
    }
   ],
   "source": [
    "((kassir*2-market)>0).sum()"
   ]
  },
  {
   "cell_type": "markdown",
   "metadata": {},
   "source": [
    "Только в 621 случае мы смогли облсужить всех клиентов.\n",
    "\n",
    "Моделируем работу трех при трех кассах на этом же потоке клиентов. А затем 4 кассы."
   ]
  },
  {
   "cell_type": "code",
   "execution_count": 15,
   "metadata": {},
   "outputs": [
    {
     "data": {
      "text/plain": [
       "921"
      ]
     },
     "execution_count": 15,
     "metadata": {},
     "output_type": "execute_result"
    }
   ],
   "source": [
    "((kassir*3-market)>0).sum()"
   ]
  },
  {
   "cell_type": "code",
   "execution_count": 16,
   "metadata": {},
   "outputs": [
    {
     "data": {
      "text/plain": [
       "995"
      ]
     },
     "execution_count": 16,
     "metadata": {},
     "output_type": "execute_result"
    }
   ],
   "source": [
    "((kassir*4-market)>0).sum()"
   ]
  },
  {
   "cell_type": "code",
   "execution_count": 17,
   "metadata": {},
   "outputs": [
    {
     "data": {
      "image/png": "[encoded data removed]",
      "text/plain": [
       "<Figure size 432x288 with 1 Axes>"
      ]
     },
     "metadata": {
      "needs_background": "light"
     },
     "output_type": "display_data"
    }
   ],
   "source": [
    "plt.hist((kassir*3-market));"
   ]
  },
  {
   "cell_type": "markdown",
   "metadata": {},
   "source": [
    "Мы видим, что три кассы обеспечивают обслуживание всех клиентов в 91% случаев. 4 кассы позволят обслужить всех клиентов в 98% случаев. Здесь встает вопрос, насколько это будет экономически целесообразно держать 4 кассы, при том, что в большинстве случаев будут недозагружены и три кассы. \n",
    "\n",
    "Для более справедливых результатов можно отдельно моделировать производительность каждой из касс."
   ]
  },
  {
   "cell_type": "code",
   "execution_count": 18,
   "metadata": {},
   "outputs": [],
   "source": [
    "kassir2 = np.random.triangular(left = 15, mode = 20, right = 44, size = size).astype(int)\n",
    "kassir3 = np.random.triangular(left = 15, mode = 20, right = 44, size = size).astype(int)\n",
    "kassir4 = np.random.triangular(left = 15, mode = 20, right = 44, size = size).astype(int)"
   ]
  },
  {
   "cell_type": "code",
   "execution_count": 19,
   "metadata": {},
   "outputs": [
    {
     "data": {
      "text/plain": [
       "625"
      ]
     },
     "execution_count": 19,
     "metadata": {},
     "output_type": "execute_result"
    }
   ],
   "source": [
    "((kassir+kassir2-market)>0).sum()"
   ]
  },
  {
   "cell_type": "code",
   "execution_count": 20,
   "metadata": {},
   "outputs": [
    {
     "data": {
      "text/plain": [
       "945"
      ]
     },
     "execution_count": 20,
     "metadata": {},
     "output_type": "execute_result"
    }
   ],
   "source": [
    "((kassir+kassir2+kassir3-market)>0).sum()"
   ]
  },
  {
   "cell_type": "code",
   "execution_count": 21,
   "metadata": {},
   "outputs": [
    {
     "data": {
      "text/plain": [
       "1000"
      ]
     },
     "execution_count": 21,
     "metadata": {},
     "output_type": "execute_result"
    }
   ],
   "source": [
    "((kassir+kassir2+kassir3+kassir4-market)>0).sum()"
   ]
  },
  {
   "cell_type": "code",
   "execution_count": 22,
   "metadata": {},
   "outputs": [
    {
     "data": {
      "image/png": "[encoded data removed]",
      "text/plain": [
       "<Figure size 432x288 with 1 Axes>"
      ]
     },
     "metadata": {
      "needs_background": "light"
     },
     "output_type": "display_data"
    }
   ],
   "source": [
    "plt.hist((kassir+kassir2+kassir3-market));"
   ]
  },
  {
   "cell_type": "markdown",
   "metadata": {},
   "source": [
    "При этом, мы получаем схожие результаты.\n",
    "\n",
    "# Играем против казино\n",
    "\n",
    "В прошлом случае с кассами мы имели классический пример марковского процесса. Когда размер потока между днями никак не связан. Боее сложный вариант для моделирования, когда следующее состояние объекта определяется предыдущим. Здесь процесс моделирования несколько изменяется.\n",
    "\n",
    "Представим, что мы играем рпотив казино и наши шансы составляют 60%. Играем строго 100 раз. Ставка составлет 50% от суммы на руках. Здесь нам придется провести моделирование 100 игр некоторое количество раз. Сумма на руках будет определять следующий ход.\n",
    "\n",
    "Напишем небольшую функцию, которая будет моделировать данный процесс (один цикл игр)."
   ]
  },
  {
   "cell_type": "code",
   "execution_count": 23,
   "metadata": {},
   "outputs": [],
   "source": [
    "def kazino(start, level=50): #передаем стартовую сумму и наши шансы. По умолчанию 50%\n",
    "    # генерируем исходы рулетки (шансов) для 100 игр, равномерное распределение\n",
    "    M1_sample = np.random.uniform(low = 0, high = 100.0, size = 100)\n",
    "    for i in range(len(M1_sample)): \n",
    "        #если значение исхода меньше уровня наших шансов - то увеличиваем сумму на руках на 50%\n",
    "        if M1_sample[i]<level:\n",
    "            start+=start/2\n",
    "        else: # если проигрываем, теряем половину суммы, которая есть на руках\n",
    "            start-=start/2\n",
    "    return start"
   ]
  },
  {
   "cell_type": "code",
   "execution_count": 24,
   "metadata": {},
   "outputs": [],
   "source": [
    "result=[] # сохраним каждый из случаев моделирования\n",
    "for i in range(100): # выполняем 100 раз моделирование цикла игр (один цикл 100 ходов)\n",
    "    result.append(kazino(100, 60)) #стартовая сумма 100 долл и шансы (60%)\n",
    "result=np.array(result) # преобразуем список в список numpy для упрощения следующих операций"
   ]
  },
  {
   "cell_type": "code",
   "execution_count": 25,
   "metadata": {},
   "outputs": [
    {
     "data": {
      "text/plain": [
       "79362.17778472048"
      ]
     },
     "execution_count": 25,
     "metadata": {},
     "output_type": "execute_result"
    }
   ],
   "source": [
    "result.mean()"
   ]
  },
  {
   "cell_type": "code",
   "execution_count": 26,
   "metadata": {},
   "outputs": [
    {
     "data": {
      "text/plain": [
       "5331532.097460406"
      ]
     },
     "execution_count": 26,
     "metadata": {},
     "output_type": "execute_result"
    }
   ],
   "source": [
    "result.max()"
   ]
  },
  {
   "cell_type": "markdown",
   "metadata": {},
   "source": [
    "Какой замечательный средний и максимальный выигрыш!"
   ]
  },
  {
   "cell_type": "code",
   "execution_count": 27,
   "metadata": {},
   "outputs": [
    {
     "data": {
      "text/plain": [
       "83"
      ]
     },
     "execution_count": 27,
     "metadata": {},
     "output_type": "execute_result"
    }
   ],
   "source": [
    "(result<100).sum()"
   ]
  },
  {
   "cell_type": "code",
   "execution_count": 28,
   "metadata": {},
   "outputs": [
    {
     "data": {
      "text/plain": [
       "44"
      ]
     },
     "execution_count": 28,
     "metadata": {},
     "output_type": "execute_result"
    }
   ],
   "source": [
    "(result<1).sum()"
   ]
  },
  {
   "cell_type": "markdown",
   "metadata": {},
   "source": [
    "Но в 72 случаях мы ушли из казино с суммой меньше стартовой. А в 33 случаях ушли с суммой меньше доллара."
   ]
  },
  {
   "cell_type": "code",
   "execution_count": 29,
   "metadata": {},
   "outputs": [
    {
     "data": {
      "image/png": "[encoded data removed]",
      "text/plain": [
       "<Figure size 432x288 with 1 Axes>"
      ]
     },
     "metadata": {
      "needs_background": "light"
     },
     "output_type": "display_data"
    }
   ],
   "source": [
    "plt.hist(result);"
   ]
  },
  {
   "cell_type": "markdown",
   "metadata": {},
   "source": [
    "Данный результат удобнее анализировать на гистограмме. Один большой выигрыш формирует такие замечательные средние показатели.\n",
    "\n",
    "Вывод - не играйте долго против казино. Лучше, вообще не играйте даже с шансами 60%. :-)"
   ]
  },
  {
   "cell_type": "markdown",
   "metadata": {},
   "source": [
    "# Более сложный практический пример\n",
    "\n",
    "Продолжим рассмотрение ситуаций,когда может быть полезна модель Монте-Карло и надо учитывать результаты предыдущих состояний. Например, нам надо оптимизировать точку заказа и объем заказа. \n",
    "\n",
    "Попробуйте найти оптимальное значение изменяя параметры `point_order` (точка заказа) и `order` (размер заказа). Размер заказа определяет также начальный запас. При этом, определеа стоимость единицы товара (20 рублей), себестоимость (15 рублей). Прибыль - это разница между ценой и себестоимостью. Также есть плата за хранение единицы товара (1 рубль за период)."
   ]
  },
  {
   "cell_type": "code",
   "execution_count": 30,
   "metadata": {},
   "outputs": [],
   "source": [
    "point_order=100 # точка заказа\n",
    "order=800 # размер заказа\n",
    "price=20 #стоимость товара \n",
    "cost_price=15 # себестоимость товара \n",
    "cost_stock=1 # стоимость хранения\n",
    "\n",
    "size=1000 # количество экспериментов\n",
    "days=30 # продолжительность одного цикла\n",
    "\n",
    "result=[] # только исходы по циклам\n",
    "result_full=[] # полная информация, включая исходы по дням, можно использовать для дополнительного анализа\n",
    "\n",
    "for i in range(size): \n",
    "    # моделируем случайное распределение спроса\n",
    "    market = np.random.triangular(left = 50, mode = 75, right = 140, size = days).astype(int)\n",
    "    money=0 # начинаем с нулевой суммой\n",
    "    stock=order # стартовый запас \n",
    "    rt=[] # временный список для хранения результатов прибыли по дням\n",
    "    for d in range(days): # моделируем по дням\n",
    "        if market[d]<stock: # если запас больше спроса \n",
    "            money+=market[d]*price-cost_stock*stock # добавим деньги от продажи и вычтем стоимость хранения\n",
    "            stock-=market[d] # уменьшим запас\n",
    "        else: # если спрос больше запаса\n",
    "            money+=stock*price-cost_stock*stock # продадим только то, что есть\n",
    "            stock=0 # обнуляем склад\n",
    "        # проверяем, пора ли делать заказ\n",
    "        if stock<=point_order:\n",
    "            money-=order*cost_price # вычтем из прибыли плату за товар\n",
    "            stock+=order # добавим товар на склад\n",
    "        rt.append(money) # накапливаем историю по финансам\n",
    "    result_full.append(rt) # сохраняем полную историю по состоянию финансов\n",
    "    result.append(money) # итоговый результат по финансовому состоянию одного цикла"
   ]
  },
  {
   "cell_type": "markdown",
   "metadata": {},
   "source": [
    "Результаты можем оценить по гистограмме и ориентируясь на количество случаев, когда итоговая прибыль больше нуля.\n",
    "Например, с точкой заказа 100 единиц и заказом 800 единиц, в 300 случаях мы уходим в минус. Хотя средняя прибыль больше 1000 рублей. Еще одно подтверждение того, что среднее несет недостаточно информации. "
   ]
  },
  {
   "cell_type": "code",
   "execution_count": 31,
   "metadata": {},
   "outputs": [
    {
     "data": {
      "image/png": "[encoded data removed]",
      "text/plain": [
       "<Figure size 432x288 with 1 Axes>"
      ]
     },
     "metadata": {
      "needs_background": "light"
     },
     "output_type": "display_data"
    }
   ],
   "source": [
    "plt.hist(result);"
   ]
  },
  {
   "cell_type": "code",
   "execution_count": 32,
   "metadata": {},
   "outputs": [
    {
     "data": {
      "text/plain": [
       "1117.265"
      ]
     },
     "execution_count": 32,
     "metadata": {},
     "output_type": "execute_result"
    }
   ],
   "source": [
    "np.array(result).mean()"
   ]
  },
  {
   "cell_type": "code",
   "execution_count": 33,
   "metadata": {},
   "outputs": [
    {
     "data": {
      "text/plain": [
       "700"
      ]
     },
     "execution_count": 33,
     "metadata": {},
     "output_type": "execute_result"
    }
   ],
   "source": [
    "(np.array(result)>0).sum()"
   ]
  },
  {
   "cell_type": "markdown",
   "metadata": {},
   "source": [
    "Данный конкретных случай можно улучшать, добавляя реализма:\n",
    "- Добавить стоимость заказа\n",
    "- Добавить штраф за отсутсвие товара \n",
    "- Добавить вариацию сроков поставки и тд.\n",
    "\n",
    "По факту, мы можем моделировать совершенно любые системы. Также можем использовать различные распределения. О них ниже.\n",
    "\n",
    "# Другие распределения\n",
    "Которые можно использовать в имитационном моделировании.\n",
    "\n",
    "## Нормальное распределение"
   ]
  },
  {
   "cell_type": "code",
   "execution_count": 34,
   "metadata": {},
   "outputs": [
    {
     "data": {
      "image/png": "[encoded data removed]",
      "text/plain": [
       "<Figure size 432x288 with 1 Axes>"
      ]
     },
     "metadata": {
      "needs_background": "light"
     },
     "output_type": "display_data"
    }
   ],
   "source": [
    "speed = np.random.normal(loc = 40.0, scale = 2.76, size = 1000)\n",
    "# loc - среднее значение, scale - стандартное отклонение\n",
    "plt.hist(speed);"
   ]
  },
  {
   "cell_type": "markdown",
   "metadata": {},
   "source": [
    "## Равномерное распределение"
   ]
  },
  {
   "cell_type": "code",
   "execution_count": 35,
   "metadata": {},
   "outputs": [
    {
     "data": {
      "image/png": "[encoded data removed]",
      "text/plain": [
       "<Figure size 432x288 with 1 Axes>"
      ]
     },
     "metadata": {
      "needs_background": "light"
     },
     "output_type": "display_data"
    }
   ],
   "source": [
    "M1_sample = np.random.uniform(low = 50.0, high = 75.0, size = 1000)\n",
    "plt.hist(M1_sample);"
   ]
  },
  {
   "cell_type": "markdown",
   "metadata": {},
   "source": [
    "## Гамма распределение"
   ]
  },
  {
   "cell_type": "code",
   "execution_count": 36,
   "metadata": {},
   "outputs": [
    {
     "data": {
      "image/png": "[encoded data removed]",
      "text/plain": [
       "<Figure size 432x288 with 1 Axes>"
      ]
     },
     "metadata": {
      "needs_background": "light"
     },
     "output_type": "display_data"
    }
   ],
   "source": [
    "from scipy.stats import gamma\n",
    "gamma_distribution = gamma(loc = 3, scale = 3, a = 1) # инициация распределения\n",
    "plt.hist(gamma_distribution.rvs(1000)); # генерация случайных значений"
   ]
  },
  {
   "cell_type": "markdown",
   "metadata": {},
   "source": [
    "## Дискретное распределение"
   ]
  },
  {
   "cell_type": "code",
   "execution_count": 37,
   "metadata": {},
   "outputs": [
    {
     "data": {
      "image/png": "[encoded data removed]",
      "text/plain": [
       "<Figure size 432x288 with 1 Axes>"
      ]
     },
     "metadata": {
      "needs_background": "light"
     },
     "output_type": "display_data"
    }
   ],
   "source": [
    "from scipy import stats\n",
    "xk = np.arange(7) # список от 0 до 6\n",
    "pk = (0.1, 0.2, 0.3, 0.1, 0.1, 0.0, 0.2) # частота, с котрой будут выпадать значения списка выше\n",
    "custm = stats.rv_discrete(name='custm', values=(xk, pk)) # инициация распределения\n",
    "\n",
    "R = custm.rvs(size=100) # генерация 100 случайных значений\n",
    "plt.hist(R, bins=7); # bins - карманы гистограммы"
   ]
  },
  {
   "cell_type": "code",
   "execution_count": null,
   "metadata": {},
   "outputs": [],
   "source": []
  }
 ],
 "metadata": {
  "kernelspec": {
   "display_name": "Python 3",
   "language": "python",
   "name": "python3"
  },
  "language_info": {
   "codemirror_mode": {
    "name": "ipython",
    "version": 3
   },
   "file_extension": ".py",
   "mimetype": "text/x-python",
   "name": "python",
   "nbconvert_exporter": "python",
   "pygments_lexer": "ipython3",
   "version": "3.6.7"
  }
 },
 "nbformat": 4,
 "nbformat_minor": 2
}
