{
 "cells": [
  {
   "cell_type": "markdown",
   "metadata": {},
   "source": [
    "# Классификация методом RandomForest\n",
    "\n",
    "Этот пример призван проиллюстрировать возможности классификации методом RandomForest и оценки значимости критериев."
   ]
  },
  {
   "cell_type": "code",
   "execution_count": 1,
   "metadata": {},
   "outputs": [],
   "source": [
    "import pandas as pd\n",
    "import numpy as np\n",
    "from sklearn.ensemble import RandomForestClassifier\n",
    "from sklearn.model_selection import train_test_split\n",
    "from sklearn.metrics import r2_score\n",
    "import matplotlib.pyplot as plt\n",
    "import seaborn as sns"
   ]
  },
  {
   "cell_type": "code",
   "execution_count": 2,
   "metadata": {},
   "outputs": [
    {
     "data": {
      "text/html": [
       "<div>\n",
       "<style scoped>\n",
       "    .dataframe tbody tr th:only-of-type {\n",
       "        vertical-align: middle;\n",
       "    }\n",
       "\n",
       "    .dataframe tbody tr th {\n",
       "        vertical-align: top;\n",
       "    }\n",
       "\n",
       "    .dataframe thead th {\n",
       "        text-align: right;\n",
       "    }\n",
       "</style>\n",
       "<table border=\"1\" class=\"dataframe\">\n",
       "  <thead>\n",
       "    <tr style=\"text-align: right;\">\n",
       "      <th></th>\n",
       "      <th>id</th>\n",
       "      <th>Review</th>\n",
       "      <th>Star</th>\n",
       "      <th>Value</th>\n",
       "      <th>brandId</th>\n",
       "      <th>brandName</th>\n",
       "      <th>goodsName</th>\n",
       "      <th>isSoldOut</th>\n",
       "      <th>link</th>\n",
       "      <th>lowQuantity</th>\n",
       "      <th>...</th>\n",
       "      <th>Длина кабеля</th>\n",
       "      <th>Количество температурных режимов</th>\n",
       "      <th>Материал корпуса</th>\n",
       "      <th>Модель</th>\n",
       "      <th>Мощность устройства</th>\n",
       "      <th>Объем чайника</th>\n",
       "      <th>Страна бренда</th>\n",
       "      <th>Страна производитель</th>\n",
       "      <th>Цвет</th>\n",
       "      <th>sale_june</th>\n",
       "    </tr>\n",
       "  </thead>\n",
       "  <tbody>\n",
       "    <tr>\n",
       "      <th>468</th>\n",
       "      <td>9747367</td>\n",
       "      <td>5</td>\n",
       "      <td>2</td>\n",
       "      <td>1220</td>\n",
       "      <td>23284</td>\n",
       "      <td>Atlanta</td>\n",
       "      <td>Чайник стеклянный электрический</td>\n",
       "      <td>0</td>\n",
       "      <td>https://www.wildberries.ru/catalog/9747367/det...</td>\n",
       "      <td>0</td>\n",
       "      <td>...</td>\n",
       "      <td>60.0</td>\n",
       "      <td>1</td>\n",
       "      <td>NaN</td>\n",
       "      <td>ATH-2465</td>\n",
       "      <td>2000.0</td>\n",
       "      <td>1.7</td>\n",
       "      <td>Соединенные Штаты</td>\n",
       "      <td>Китай</td>\n",
       "      <td>белый, серебристый</td>\n",
       "      <td>0</td>\n",
       "    </tr>\n",
       "    <tr>\n",
       "      <th>166</th>\n",
       "      <td>5907557</td>\n",
       "      <td>67</td>\n",
       "      <td>4</td>\n",
       "      <td>1047</td>\n",
       "      <td>16111</td>\n",
       "      <td>Scarlett</td>\n",
       "      <td>Электрический чайник SC-EK27G34</td>\n",
       "      <td>0</td>\n",
       "      <td>https://www.wildberries.ru/catalog/5907557/det...</td>\n",
       "      <td>0</td>\n",
       "      <td>...</td>\n",
       "      <td>75.0</td>\n",
       "      <td>1</td>\n",
       "      <td>пластик; стекло</td>\n",
       "      <td>SC-EK27G34</td>\n",
       "      <td>2200.0</td>\n",
       "      <td>1.7</td>\n",
       "      <td>Соединенное Королевство</td>\n",
       "      <td>Китай</td>\n",
       "      <td>черный</td>\n",
       "      <td>0</td>\n",
       "    </tr>\n",
       "    <tr>\n",
       "      <th>89</th>\n",
       "      <td>4951654</td>\n",
       "      <td>26</td>\n",
       "      <td>3</td>\n",
       "      <td>1086</td>\n",
       "      <td>25258</td>\n",
       "      <td>GALAXY</td>\n",
       "      <td>Чайник электрический GL0204</td>\n",
       "      <td>0</td>\n",
       "      <td>https://www.wildberries.ru/catalog/4951654/det...</td>\n",
       "      <td>0</td>\n",
       "      <td>...</td>\n",
       "      <td>70.0</td>\n",
       "      <td>1</td>\n",
       "      <td>пластик</td>\n",
       "      <td>GL0204 (2015)</td>\n",
       "      <td>2200.0</td>\n",
       "      <td>2.0</td>\n",
       "      <td>Россия</td>\n",
       "      <td>Китай</td>\n",
       "      <td>бордовый</td>\n",
       "      <td>0</td>\n",
       "    </tr>\n",
       "    <tr>\n",
       "      <th>175</th>\n",
       "      <td>6117949</td>\n",
       "      <td>72</td>\n",
       "      <td>4</td>\n",
       "      <td>1719</td>\n",
       "      <td>25258</td>\n",
       "      <td>GALAXY</td>\n",
       "      <td>Чайник электрический GL0501</td>\n",
       "      <td>0</td>\n",
       "      <td>https://www.wildberries.ru/catalog/6117949/det...</td>\n",
       "      <td>0</td>\n",
       "      <td>...</td>\n",
       "      <td>77.0</td>\n",
       "      <td>1</td>\n",
       "      <td>керамика</td>\n",
       "      <td>GL0501</td>\n",
       "      <td>1400.0</td>\n",
       "      <td>1.0</td>\n",
       "      <td>Россия</td>\n",
       "      <td>Китай</td>\n",
       "      <td>белый</td>\n",
       "      <td>0</td>\n",
       "    </tr>\n",
       "    <tr>\n",
       "      <th>153</th>\n",
       "      <td>5759865</td>\n",
       "      <td>96</td>\n",
       "      <td>4</td>\n",
       "      <td>2788</td>\n",
       "      <td>16116</td>\n",
       "      <td>Braun</td>\n",
       "      <td>Чайник Multiquick 5 WK500</td>\n",
       "      <td>0</td>\n",
       "      <td>https://www.wildberries.ru/catalog/5759865/det...</td>\n",
       "      <td>0</td>\n",
       "      <td>...</td>\n",
       "      <td>100.0</td>\n",
       "      <td>1</td>\n",
       "      <td>пластик</td>\n",
       "      <td>WK 500</td>\n",
       "      <td>3000.0</td>\n",
       "      <td>1.7</td>\n",
       "      <td>Германия</td>\n",
       "      <td>Чешская Республика</td>\n",
       "      <td>белый</td>\n",
       "      <td>0</td>\n",
       "    </tr>\n",
       "  </tbody>\n",
       "</table>\n",
       "<p>5 rows × 24 columns</p>\n",
       "</div>"
      ],
      "text/plain": [
       "          id  Review  Star  Value  brandId brandName  \\\n",
       "468  9747367       5     2   1220    23284   Atlanta   \n",
       "166  5907557      67     4   1047    16111  Scarlett   \n",
       "89   4951654      26     3   1086    25258    GALAXY   \n",
       "175  6117949      72     4   1719    25258    GALAXY   \n",
       "153  5759865      96     4   2788    16116     Braun   \n",
       "\n",
       "                           goodsName  isSoldOut  \\\n",
       "468  Чайник стеклянный электрический          0   \n",
       "166  Электрический чайник SC-EK27G34          0   \n",
       "89       Чайник электрический GL0204          0   \n",
       "175      Чайник электрический GL0501          0   \n",
       "153        Чайник Multiquick 5 WK500          0   \n",
       "\n",
       "                                                  link  lowQuantity  ...  \\\n",
       "468  https://www.wildberries.ru/catalog/9747367/det...            0  ...   \n",
       "166  https://www.wildberries.ru/catalog/5907557/det...            0  ...   \n",
       "89   https://www.wildberries.ru/catalog/4951654/det...            0  ...   \n",
       "175  https://www.wildberries.ru/catalog/6117949/det...            0  ...   \n",
       "153  https://www.wildberries.ru/catalog/5759865/det...            0  ...   \n",
       "\n",
       "     Длина кабеля  Количество температурных режимов  Материал корпуса  \\\n",
       "468          60.0                                 1               NaN   \n",
       "166          75.0                                 1   пластик; стекло   \n",
       "89           70.0                                 1           пластик   \n",
       "175          77.0                                 1          керамика   \n",
       "153         100.0                                 1           пластик   \n",
       "\n",
       "            Модель  Мощность устройства Объем чайника  \\\n",
       "468       ATH-2465               2000.0           1.7   \n",
       "166     SC-EK27G34               2200.0           1.7   \n",
       "89   GL0204 (2015)               2200.0           2.0   \n",
       "175         GL0501               1400.0           1.0   \n",
       "153         WK 500               3000.0           1.7   \n",
       "\n",
       "               Страна бренда Страна производитель                Цвет  \\\n",
       "468        Соединенные Штаты                Китай  белый, серебристый   \n",
       "166  Соединенное Королевство                Китай              черный   \n",
       "89                    Россия                Китай            бордовый   \n",
       "175                   Россия                Китай               белый   \n",
       "153                 Германия   Чешская Республика               белый   \n",
       "\n",
       "     sale_june  \n",
       "468          0  \n",
       "166          0  \n",
       "89           0  \n",
       "175          0  \n",
       "153          0  \n",
       "\n",
       "[5 rows x 24 columns]"
      ]
     },
     "execution_count": 2,
     "metadata": {},
     "output_type": "execute_result"
    }
   ],
   "source": [
    "df=pd.read_excel('wb_teapot.xlsx', sheets='Sheet1') #!!!!!! измените имя файла и название рабочего листа\n",
    "df.sample(5) #эта команда выведет пять случайных строк таблицы, таблица не отобразиться полностью."
   ]
  },
  {
   "cell_type": "code",
   "execution_count": 3,
   "metadata": {},
   "outputs": [
    {
     "name": "stdout",
     "output_type": "stream",
     "text": [
      "<class 'pandas.core.frame.DataFrame'>\n",
      "RangeIndex: 642 entries, 0 to 641\n",
      "Data columns (total 24 columns):\n",
      "id                                  642 non-null int64\n",
      "Review                              642 non-null int64\n",
      "Star                                642 non-null int64\n",
      "Value                               642 non-null int64\n",
      "brandId                             642 non-null int64\n",
      "brandName                           642 non-null object\n",
      "goodsName                           642 non-null object\n",
      "isSoldOut                           642 non-null int64\n",
      "link                                642 non-null object\n",
      "lowQuantity                         642 non-null int64\n",
      "ordersCount                         642 non-null int64\n",
      "price                               642 non-null int64\n",
      "qualityRate                         642 non-null int64\n",
      "Вес с упаковкой (кг)                637 non-null float64\n",
      "Длина кабеля                        625 non-null float64\n",
      "Количество температурных режимов    614 non-null object\n",
      "Материал корпуса                    336 non-null object\n",
      "Модель                              637 non-null object\n",
      "Мощность устройства                 634 non-null float64\n",
      "Объем чайника                       641 non-null float64\n",
      "Страна бренда                       642 non-null object\n",
      "Страна производитель                642 non-null object\n",
      "Цвет                                642 non-null object\n",
      "sale_june                           642 non-null int64\n",
      "dtypes: float64(4), int64(11), object(9)\n",
      "memory usage: 120.5+ KB\n"
     ]
    }
   ],
   "source": [
    "df.info() #общая информация о столбцах, типах и пропущенных значениях"
   ]
  },
  {
   "cell_type": "code",
   "execution_count": 4,
   "metadata": {},
   "outputs": [
    {
     "data": {
      "text/html": [
       "<div>\n",
       "<style scoped>\n",
       "    .dataframe tbody tr th:only-of-type {\n",
       "        vertical-align: middle;\n",
       "    }\n",
       "\n",
       "    .dataframe tbody tr th {\n",
       "        vertical-align: top;\n",
       "    }\n",
       "\n",
       "    .dataframe thead th {\n",
       "        text-align: right;\n",
       "    }\n",
       "</style>\n",
       "<table border=\"1\" class=\"dataframe\">\n",
       "  <thead>\n",
       "    <tr style=\"text-align: right;\">\n",
       "      <th></th>\n",
       "      <th>id</th>\n",
       "      <th>Review</th>\n",
       "      <th>Star</th>\n",
       "      <th>Value</th>\n",
       "      <th>brandId</th>\n",
       "      <th>isSoldOut</th>\n",
       "      <th>lowQuantity</th>\n",
       "      <th>ordersCount</th>\n",
       "      <th>price</th>\n",
       "      <th>qualityRate</th>\n",
       "      <th>Вес с упаковкой (кг)</th>\n",
       "      <th>Длина кабеля</th>\n",
       "      <th>Мощность устройства</th>\n",
       "      <th>Объем чайника</th>\n",
       "      <th>sale_june</th>\n",
       "    </tr>\n",
       "  </thead>\n",
       "  <tbody>\n",
       "    <tr>\n",
       "      <th>count</th>\n",
       "      <td>6.420000e+02</td>\n",
       "      <td>642.000000</td>\n",
       "      <td>642.000000</td>\n",
       "      <td>642.000000</td>\n",
       "      <td>642.000000</td>\n",
       "      <td>642.000000</td>\n",
       "      <td>642.000000</td>\n",
       "      <td>642.000000</td>\n",
       "      <td>642.000000</td>\n",
       "      <td>642.000000</td>\n",
       "      <td>637.000000</td>\n",
       "      <td>625.000000</td>\n",
       "      <td>634.000000</td>\n",
       "      <td>641.000000</td>\n",
       "      <td>642.000000</td>\n",
       "    </tr>\n",
       "    <tr>\n",
       "      <th>mean</th>\n",
       "      <td>7.835927e+06</td>\n",
       "      <td>32.908100</td>\n",
       "      <td>3.819315</td>\n",
       "      <td>2210.987539</td>\n",
       "      <td>25560.778816</td>\n",
       "      <td>0.004673</td>\n",
       "      <td>0.073209</td>\n",
       "      <td>280.514019</td>\n",
       "      <td>2783.130841</td>\n",
       "      <td>97.364486</td>\n",
       "      <td>1.363077</td>\n",
       "      <td>72.977920</td>\n",
       "      <td>1994.779180</td>\n",
       "      <td>1.668019</td>\n",
       "      <td>14.725857</td>\n",
       "    </tr>\n",
       "    <tr>\n",
       "      <th>std</th>\n",
       "      <td>2.499043e+06</td>\n",
       "      <td>64.158267</td>\n",
       "      <td>0.960240</td>\n",
       "      <td>1451.388317</td>\n",
       "      <td>13756.815222</td>\n",
       "      <td>0.068252</td>\n",
       "      <td>0.260682</td>\n",
       "      <td>712.203553</td>\n",
       "      <td>1831.338995</td>\n",
       "      <td>8.153051</td>\n",
       "      <td>0.665768</td>\n",
       "      <td>77.105167</td>\n",
       "      <td>391.228811</td>\n",
       "      <td>0.339104</td>\n",
       "      <td>40.779031</td>\n",
       "    </tr>\n",
       "    <tr>\n",
       "      <th>min</th>\n",
       "      <td>2.171393e+06</td>\n",
       "      <td>0.000000</td>\n",
       "      <td>0.000000</td>\n",
       "      <td>0.000000</td>\n",
       "      <td>599.000000</td>\n",
       "      <td>0.000000</td>\n",
       "      <td>0.000000</td>\n",
       "      <td>20.000000</td>\n",
       "      <td>0.000000</td>\n",
       "      <td>0.000000</td>\n",
       "      <td>0.180000</td>\n",
       "      <td>0.600000</td>\n",
       "      <td>500.000000</td>\n",
       "      <td>0.500000</td>\n",
       "      <td>0.000000</td>\n",
       "    </tr>\n",
       "    <tr>\n",
       "      <th>25%</th>\n",
       "      <td>5.824747e+06</td>\n",
       "      <td>5.000000</td>\n",
       "      <td>3.000000</td>\n",
       "      <td>1205.250000</td>\n",
       "      <td>16102.000000</td>\n",
       "      <td>0.000000</td>\n",
       "      <td>0.000000</td>\n",
       "      <td>40.000000</td>\n",
       "      <td>1547.750000</td>\n",
       "      <td>97.000000</td>\n",
       "      <td>1.050000</td>\n",
       "      <td>63.000000</td>\n",
       "      <td>1800.000000</td>\n",
       "      <td>1.700000</td>\n",
       "      <td>0.000000</td>\n",
       "    </tr>\n",
       "    <tr>\n",
       "      <th>50%</th>\n",
       "      <td>8.123429e+06</td>\n",
       "      <td>11.000000</td>\n",
       "      <td>4.000000</td>\n",
       "      <td>1802.000000</td>\n",
       "      <td>20577.000000</td>\n",
       "      <td>0.000000</td>\n",
       "      <td>0.000000</td>\n",
       "      <td>90.000000</td>\n",
       "      <td>2254.500000</td>\n",
       "      <td>100.000000</td>\n",
       "      <td>1.300000</td>\n",
       "      <td>70.000000</td>\n",
       "      <td>2200.000000</td>\n",
       "      <td>1.700000</td>\n",
       "      <td>0.000000</td>\n",
       "    </tr>\n",
       "    <tr>\n",
       "      <th>75%</th>\n",
       "      <td>1.002333e+07</td>\n",
       "      <td>31.000000</td>\n",
       "      <td>4.000000</td>\n",
       "      <td>2788.750000</td>\n",
       "      <td>34103.000000</td>\n",
       "      <td>0.000000</td>\n",
       "      <td>0.000000</td>\n",
       "      <td>200.000000</td>\n",
       "      <td>3490.000000</td>\n",
       "      <td>100.000000</td>\n",
       "      <td>1.500000</td>\n",
       "      <td>75.000000</td>\n",
       "      <td>2200.000000</td>\n",
       "      <td>1.800000</td>\n",
       "      <td>10.000000</td>\n",
       "    </tr>\n",
       "    <tr>\n",
       "      <th>max</th>\n",
       "      <td>1.239497e+07</td>\n",
       "      <td>535.000000</td>\n",
       "      <td>5.000000</td>\n",
       "      <td>11790.000000</td>\n",
       "      <td>72224.000000</td>\n",
       "      <td>1.000000</td>\n",
       "      <td>1.000000</td>\n",
       "      <td>10300.000000</td>\n",
       "      <td>11790.000000</td>\n",
       "      <td>100.000000</td>\n",
       "      <td>11.400000</td>\n",
       "      <td>1000.000000</td>\n",
       "      <td>3000.000000</td>\n",
       "      <td>5.000000</td>\n",
       "      <td>400.000000</td>\n",
       "    </tr>\n",
       "  </tbody>\n",
       "</table>\n",
       "</div>"
      ],
      "text/plain": [
       "                 id      Review        Star         Value       brandId  \\\n",
       "count  6.420000e+02  642.000000  642.000000    642.000000    642.000000   \n",
       "mean   7.835927e+06   32.908100    3.819315   2210.987539  25560.778816   \n",
       "std    2.499043e+06   64.158267    0.960240   1451.388317  13756.815222   \n",
       "min    2.171393e+06    0.000000    0.000000      0.000000    599.000000   \n",
       "25%    5.824747e+06    5.000000    3.000000   1205.250000  16102.000000   \n",
       "50%    8.123429e+06   11.000000    4.000000   1802.000000  20577.000000   \n",
       "75%    1.002333e+07   31.000000    4.000000   2788.750000  34103.000000   \n",
       "max    1.239497e+07  535.000000    5.000000  11790.000000  72224.000000   \n",
       "\n",
       "        isSoldOut  lowQuantity   ordersCount         price  qualityRate  \\\n",
       "count  642.000000   642.000000    642.000000    642.000000   642.000000   \n",
       "mean     0.004673     0.073209    280.514019   2783.130841    97.364486   \n",
       "std      0.068252     0.260682    712.203553   1831.338995     8.153051   \n",
       "min      0.000000     0.000000     20.000000      0.000000     0.000000   \n",
       "25%      0.000000     0.000000     40.000000   1547.750000    97.000000   \n",
       "50%      0.000000     0.000000     90.000000   2254.500000   100.000000   \n",
       "75%      0.000000     0.000000    200.000000   3490.000000   100.000000   \n",
       "max      1.000000     1.000000  10300.000000  11790.000000   100.000000   \n",
       "\n",
       "       Вес с упаковкой (кг)  Длина кабеля  Мощность устройства  Объем чайника  \\\n",
       "count            637.000000    625.000000           634.000000     641.000000   \n",
       "mean               1.363077     72.977920          1994.779180       1.668019   \n",
       "std                0.665768     77.105167           391.228811       0.339104   \n",
       "min                0.180000      0.600000           500.000000       0.500000   \n",
       "25%                1.050000     63.000000          1800.000000       1.700000   \n",
       "50%                1.300000     70.000000          2200.000000       1.700000   \n",
       "75%                1.500000     75.000000          2200.000000       1.800000   \n",
       "max               11.400000   1000.000000          3000.000000       5.000000   \n",
       "\n",
       "        sale_june  \n",
       "count  642.000000  \n",
       "mean    14.725857  \n",
       "std     40.779031  \n",
       "min      0.000000  \n",
       "25%      0.000000  \n",
       "50%      0.000000  \n",
       "75%     10.000000  \n",
       "max    400.000000  "
      ]
     },
     "execution_count": 4,
     "metadata": {},
     "output_type": "execute_result"
    }
   ],
   "source": [
    "df.describe() #общие статистики"
   ]
  },
  {
   "cell_type": "code",
   "execution_count": 5,
   "metadata": {},
   "outputs": [
    {
     "data": {
      "image/png": "[encoded data removed]",
      "text/plain": [
       "<Figure size 1440x288 with 1 Axes>"
      ]
     },
     "metadata": {
      "needs_background": "light"
     },
     "output_type": "display_data"
    }
   ],
   "source": [
    "df['Review'].hist(bins=30, figsize=(20,4)); # как распределено количество отзывов"
   ]
  },
  {
   "cell_type": "code",
   "execution_count": 6,
   "metadata": {},
   "outputs": [
    {
     "data": {
      "text/plain": [
       "329"
      ]
     },
     "execution_count": 6,
     "metadata": {},
     "output_type": "execute_result"
    }
   ],
   "source": [
    "df[df['Review']>10]['sale_june'].count()"
   ]
  },
  {
   "cell_type": "markdown",
   "metadata": {},
   "source": [
    "Попробуем предсказать будет ли у модели больше 10 отзывов или нет. В этмо случае у нас получается сбалансированный набор данных. Ниже выведем список столбцов и отберем те, которые будем использовать для классификатора."
   ]
  },
  {
   "cell_type": "code",
   "execution_count": 7,
   "metadata": {},
   "outputs": [
    {
     "data": {
      "text/plain": [
       "Index(['id', 'Review', 'Star', 'Value', 'brandId', 'brandName', 'goodsName',\n",
       "       'isSoldOut', 'link', 'lowQuantity', 'ordersCount', 'price',\n",
       "       'qualityRate', 'Вес с упаковкой (кг)', 'Длина кабеля',\n",
       "       'Количество температурных режимов', 'Материал корпуса', 'Модель',\n",
       "       'Мощность устройства', 'Объем чайника', 'Страна бренда',\n",
       "       'Страна производитель', 'Цвет', 'sale_june'],\n",
       "      dtype='object')"
      ]
     },
     "execution_count": 7,
     "metadata": {},
     "output_type": "execute_result"
    }
   ],
   "source": [
    "df.columns # список столбцов нашего датасета "
   ]
  },
  {
   "cell_type": "code",
   "execution_count": 8,
   "metadata": {},
   "outputs": [],
   "source": [
    "col=['Star', 'Value', 'brandId', 'ordersCount', \n",
    "       'qualityRate', 'Вес с упаковкой (кг)', 'Длина кабеля',\n",
    "       'Количество температурных режимов', 'Материал корпуса',\n",
    "       'Мощность устройства', 'Объем чайника', 'Страна бренда',\n",
    "       'Страна производитель', 'Цвет'] # !!!!! Укажите здесь названия столбцов своего датасета!\n",
    "\n",
    "# код ниже преобразует категорийные данные в переменные и заполняет пропуски наиболее вероятным значением\n",
    "X=pd.DataFrame()\n",
    "for i in col:\n",
    "    if df[i].dtype.name != 'object':\n",
    "        X[i]=df[i].copy()\n",
    "        X.loc[X[i].isna(), i]=X[i].median()\n",
    "    else:\n",
    "        X[i]=pd.factorize(df[i])[0]"
   ]
  },
  {
   "cell_type": "code",
   "execution_count": 9,
   "metadata": {},
   "outputs": [
    {
     "data": {
      "text/html": [
       "<div>\n",
       "<style scoped>\n",
       "    .dataframe tbody tr th:only-of-type {\n",
       "        vertical-align: middle;\n",
       "    }\n",
       "\n",
       "    .dataframe tbody tr th {\n",
       "        vertical-align: top;\n",
       "    }\n",
       "\n",
       "    .dataframe thead th {\n",
       "        text-align: right;\n",
       "    }\n",
       "</style>\n",
       "<table border=\"1\" class=\"dataframe\">\n",
       "  <thead>\n",
       "    <tr style=\"text-align: right;\">\n",
       "      <th></th>\n",
       "      <th>Star</th>\n",
       "      <th>Value</th>\n",
       "      <th>brandId</th>\n",
       "      <th>ordersCount</th>\n",
       "      <th>qualityRate</th>\n",
       "      <th>Вес с упаковкой (кг)</th>\n",
       "      <th>Длина кабеля</th>\n",
       "      <th>Количество температурных режимов</th>\n",
       "      <th>Материал корпуса</th>\n",
       "      <th>Мощность устройства</th>\n",
       "      <th>Объем чайника</th>\n",
       "      <th>Страна бренда</th>\n",
       "      <th>Страна производитель</th>\n",
       "      <th>Цвет</th>\n",
       "    </tr>\n",
       "  </thead>\n",
       "  <tbody>\n",
       "    <tr>\n",
       "      <th>132</th>\n",
       "      <td>4.0</td>\n",
       "      <td>3125.0</td>\n",
       "      <td>18014.0</td>\n",
       "      <td>300.0</td>\n",
       "      <td>100.0</td>\n",
       "      <td>1.19</td>\n",
       "      <td>75.0</td>\n",
       "      <td>7</td>\n",
       "      <td>6</td>\n",
       "      <td>1800.0</td>\n",
       "      <td>1.6</td>\n",
       "      <td>1</td>\n",
       "      <td>0</td>\n",
       "      <td>11</td>\n",
       "    </tr>\n",
       "    <tr>\n",
       "      <th>59</th>\n",
       "      <td>3.0</td>\n",
       "      <td>3432.0</td>\n",
       "      <td>17106.0</td>\n",
       "      <td>200.0</td>\n",
       "      <td>100.0</td>\n",
       "      <td>1.60</td>\n",
       "      <td>0.7</td>\n",
       "      <td>0</td>\n",
       "      <td>5</td>\n",
       "      <td>2200.0</td>\n",
       "      <td>1.7</td>\n",
       "      <td>1</td>\n",
       "      <td>0</td>\n",
       "      <td>1</td>\n",
       "    </tr>\n",
       "    <tr>\n",
       "      <th>410</th>\n",
       "      <td>4.0</td>\n",
       "      <td>2390.0</td>\n",
       "      <td>16102.0</td>\n",
       "      <td>50.0</td>\n",
       "      <td>100.0</td>\n",
       "      <td>1.50</td>\n",
       "      <td>78.0</td>\n",
       "      <td>0</td>\n",
       "      <td>-1</td>\n",
       "      <td>2200.0</td>\n",
       "      <td>1.7</td>\n",
       "      <td>1</td>\n",
       "      <td>0</td>\n",
       "      <td>31</td>\n",
       "    </tr>\n",
       "  </tbody>\n",
       "</table>\n",
       "</div>"
      ],
      "text/plain": [
       "     Star   Value  brandId  ordersCount  qualityRate  Вес с упаковкой (кг)  \\\n",
       "132   4.0  3125.0  18014.0        300.0        100.0                  1.19   \n",
       "59    3.0  3432.0  17106.0        200.0        100.0                  1.60   \n",
       "410   4.0  2390.0  16102.0         50.0        100.0                  1.50   \n",
       "\n",
       "     Длина кабеля  Количество температурных режимов  Материал корпуса  \\\n",
       "132          75.0                                 7                 6   \n",
       "59            0.7                                 0                 5   \n",
       "410          78.0                                 0                -1   \n",
       "\n",
       "     Мощность устройства  Объем чайника  Страна бренда  Страна производитель  \\\n",
       "132               1800.0            1.6              1                     0   \n",
       "59                2200.0            1.7              1                     0   \n",
       "410               2200.0            1.7              1                     0   \n",
       "\n",
       "     Цвет  \n",
       "132    11  \n",
       "59      1  \n",
       "410    31  "
      ]
     },
     "execution_count": 9,
     "metadata": {},
     "output_type": "execute_result"
    }
   ],
   "source": [
    "# результат, подготовленные данные\n",
    "X.sample(3)"
   ]
  },
  {
   "cell_type": "code",
   "execution_count": 10,
   "metadata": {},
   "outputs": [],
   "source": [
    "# Y будет равен нулю если отзывов 10 и меньше, и единице если больше 10\n",
    "Y=df['Review'].apply(lambda x: 1 if x>10 else 0).values"
   ]
  },
  {
   "cell_type": "code",
   "execution_count": 11,
   "metadata": {},
   "outputs": [],
   "source": [
    "#разделим набор на тренировочный и тестовый\n",
    "X_train, X_test, y_train, y_test = train_test_split(X, Y, test_size=0.2, random_state=42)"
   ]
  },
  {
   "cell_type": "code",
   "execution_count": 12,
   "metadata": {},
   "outputs": [
    {
     "data": {
      "text/plain": [
       "RandomForestClassifier(bootstrap=True, ccp_alpha=0.0, class_weight=None,\n",
       "                       criterion='gini', max_depth=None, max_features='auto',\n",
       "                       max_leaf_nodes=None, max_samples=None,\n",
       "                       min_impurity_decrease=0.0, min_impurity_split=None,\n",
       "                       min_samples_leaf=1, min_samples_split=2,\n",
       "                       min_weight_fraction_leaf=0.0, n_estimators=100,\n",
       "                       n_jobs=None, oob_score=False, random_state=None,\n",
       "                       verbose=0, warm_start=False)"
      ]
     },
     "execution_count": 12,
     "metadata": {},
     "output_type": "execute_result"
    }
   ],
   "source": [
    "# создаем и тренируем модель, отдельно можно провести подбор параметров для повышения точности\n",
    "model = RandomForestClassifier(n_estimators=100)\n",
    "model.fit(X_train, y_train)"
   ]
  },
  {
   "cell_type": "code",
   "execution_count": 13,
   "metadata": {},
   "outputs": [
    {
     "name": "stdout",
     "output_type": "stream",
     "text": [
      "Значимость признака:\n"
     ]
    },
    {
     "data": {
      "text/plain": [
       "[[0.3634, 'ordersCount'],\n",
       " [0.0782, 'brandId'],\n",
       " [0.0778, 'Star'],\n",
       " [0.0664, 'Страна бренда'],\n",
       " [0.0661, 'Вес с упаковкой (кг)'],\n",
       " [0.066, 'Value'],\n",
       " [0.0651, 'Цвет'],\n",
       " [0.0513, 'qualityRate'],\n",
       " [0.0453, 'Длина кабеля'],\n",
       " [0.033, 'Материал корпуса'],\n",
       " [0.0328, 'Мощность устройства'],\n",
       " [0.0278, 'Объем чайника'],\n",
       " [0.0223, 'Количество температурных режимов'],\n",
       " [0.0044, 'Страна производитель']]"
      ]
     },
     "execution_count": 13,
     "metadata": {},
     "output_type": "execute_result"
    }
   ],
   "source": [
    "importances = model.feature_importances_\n",
    "indices = np.argsort(importances)[::-1]\n",
    "\n",
    "ar_f=[]\n",
    "for f, idx in enumerate(indices):\n",
    "    ar_f.append([round(importances[idx],4), col[idx]])\n",
    "print(\"Значимость признака:\")\n",
    "ar_f.sort(reverse=True)\n",
    "ar_f"
   ]
  },
  {
   "cell_type": "code",
   "execution_count": 14,
   "metadata": {},
   "outputs": [
    {
     "data": {
      "image/png": "[encoded data removed]",
      "text/plain": [
       "<Figure size 576x576 with 1 Axes>"
      ]
     },
     "metadata": {
      "needs_background": "light"
     },
     "output_type": "display_data"
    }
   ],
   "source": [
    "#удобнее отобразить на столбчатой диаграмме\n",
    "d_first = len(col)\n",
    "plt.figure(figsize=(8, 8))\n",
    "plt.title(\"Значимость признака\")\n",
    "plt.bar(range(d_first), importances[indices[:d_first]], align='center')\n",
    "plt.xticks(range(d_first), np.array(col)[indices[:d_first]], rotation=90)\n",
    "plt.xlim([-1, d_first]);"
   ]
  },
  {
   "cell_type": "code",
   "execution_count": 15,
   "metadata": {},
   "outputs": [
    {
     "data": {
      "text/plain": [
       "array([1, 1, 0, 0, 1, 1, 1, 0, 1, 1, 1, 1, 0, 1, 1, 0, 1, 1, 1, 1, 0, 0,\n",
       "       1, 1, 0, 0, 0, 1, 1, 1, 0, 1, 1, 0, 0, 0, 1, 1, 1, 1, 1, 0, 0, 1,\n",
       "       1, 1, 0, 1, 0, 1, 0, 0, 1, 0, 0, 1, 0, 1, 1, 0, 1, 1, 0, 0, 0, 0,\n",
       "       1, 0, 0, 0, 0, 1, 0, 1, 0, 0, 1, 0, 1, 1, 0, 1, 0, 0, 1, 0, 1, 0,\n",
       "       0, 1, 1, 0, 1, 1, 1, 0, 1, 0, 1, 0, 1, 1, 1, 1, 1, 1, 0, 1, 1, 0,\n",
       "       1, 0, 1, 1, 0, 0, 0, 0, 1, 0, 0, 0, 1, 1, 1, 1, 1, 0, 1])"
      ]
     },
     "execution_count": 15,
     "metadata": {},
     "output_type": "execute_result"
    }
   ],
   "source": [
    "# как выглядит результат предсказания для тестовой выборки\n",
    "model.predict(X_test)"
   ]
  },
  {
   "cell_type": "code",
   "execution_count": 16,
   "metadata": {},
   "outputs": [
    {
     "data": {
      "text/plain": [
       "array([1, 1, 0, 1, 1, 1, 1, 0, 1, 1, 1, 1, 0, 1, 1, 0, 1, 0, 1, 1, 0, 0,\n",
       "       1, 1, 0, 1, 0, 1, 1, 0, 0, 0, 0, 0, 0, 0, 1, 1, 1, 1, 0, 0, 0, 1,\n",
       "       1, 1, 0, 1, 0, 1, 0, 0, 1, 0, 0, 1, 0, 1, 1, 0, 0, 1, 1, 0, 0, 0,\n",
       "       1, 0, 0, 0, 0, 1, 1, 1, 0, 1, 1, 0, 1, 1, 0, 1, 0, 1, 1, 0, 1, 0,\n",
       "       0, 1, 1, 0, 1, 0, 1, 0, 1, 0, 0, 0, 1, 1, 1, 1, 0, 0, 0, 1, 1, 0,\n",
       "       1, 0, 1, 1, 0, 0, 1, 0, 1, 0, 0, 0, 1, 1, 1, 1, 0, 0, 1])"
      ]
     },
     "execution_count": 16,
     "metadata": {},
     "output_type": "execute_result"
    }
   ],
   "source": [
    "# как выглядядт результаты тестового набора\n",
    "y_test"
   ]
  },
  {
   "cell_type": "code",
   "execution_count": 17,
   "metadata": {},
   "outputs": [
    {
     "data": {
      "text/plain": [
       "0.4342105263157895"
      ]
     },
     "execution_count": 17,
     "metadata": {},
     "output_type": "execute_result"
    }
   ],
   "source": [
    "# метрика r2\n",
    "r2_score(model.predict(X_test), y_test)"
   ]
  },
  {
   "cell_type": "code",
   "execution_count": 18,
   "metadata": {},
   "outputs": [
    {
     "name": "stdout",
     "output_type": "stream",
     "text": [
      "Accuracy: 0.8604651162790697\n"
     ]
    }
   ],
   "source": [
    "from sklearn import metrics\n",
    "# метрика, насколько точно мы предсказываем правильные значения как для 0, так и 1\n",
    "print(\"Accuracy:\",metrics.accuracy_score(y_test, model.predict(X_test)))"
   ]
  },
  {
   "cell_type": "code",
   "execution_count": 19,
   "metadata": {},
   "outputs": [
    {
     "data": {
      "text/plain": [
       "array([[50, 11],\n",
       "       [ 7, 61]])"
      ]
     },
     "execution_count": 19,
     "metadata": {},
     "output_type": "execute_result"
    }
   ],
   "source": [
    "# матрица количества правильно и ошибочно угаданных классов\n",
    "from sklearn.metrics import confusion_matrix\n",
    "confusion_matrix(y_test, model.predict(X_test))"
   ]
  },
  {
   "cell_type": "code",
   "execution_count": 20,
   "metadata": {},
   "outputs": [
    {
     "data": {
      "image/png": "[encoded data removed]",
      "text/plain": [
       "<Figure size 1152x504 with 2 Axes>"
      ]
     },
     "metadata": {
      "needs_background": "light"
     },
     "output_type": "display_data"
    }
   ],
   "source": [
    "# так же матрица в процентах и более изящном виде\n",
    "matrix = confusion_matrix(y_test, model.predict(X_test))\n",
    "matrix = matrix.astype('float') / matrix.sum(axis=1)[:, np.newaxis]\n",
    "\n",
    "# Build the plot\n",
    "plt.figure(figsize=(16,7))\n",
    "sns.set(font_scale=1.4)\n",
    "sns.heatmap(matrix, annot=True, annot_kws={'size':10},\n",
    "            cmap=plt.cm.Greens, linewidths=0.2)\n",
    "\n",
    "# Add labels to the plot\n",
    "class_names = ['<10', '>10']                 # !!!!!! указать названия классов!\n",
    "tick_marks = np.arange(len(class_names))\n",
    "tick_marks2 = tick_marks + 0.5\n",
    "plt.xticks(tick_marks, class_names, rotation=25)\n",
    "plt.yticks(tick_marks2, class_names, rotation=0)\n",
    "plt.xlabel('Предсказанные классы')\n",
    "plt.ylabel('Истинные классы')\n",
    "plt.title('Confusion Matrix for Random Forest Model')\n",
    "plt.show()"
   ]
  },
  {
   "cell_type": "code",
   "execution_count": 21,
   "metadata": {},
   "outputs": [
    {
     "name": "stdout",
     "output_type": "stream",
     "text": [
      "              precision    recall  f1-score   support\n",
      "\n",
      "           0       0.88      0.82      0.85        61\n",
      "           1       0.85      0.90      0.87        68\n",
      "\n",
      "    accuracy                           0.86       129\n",
      "   macro avg       0.86      0.86      0.86       129\n",
      "weighted avg       0.86      0.86      0.86       129\n",
      "\n"
     ]
    }
   ],
   "source": [
    "# Еще базовые метрики оценки точности модели\n",
    "from sklearn.metrics import classification_report\n",
    "print(classification_report(y_test, model.predict(X_test)))"
   ]
  },
  {
   "cell_type": "code",
   "execution_count": null,
   "metadata": {},
   "outputs": [],
   "source": []
  }
 ],
 "metadata": {
  "kernelspec": {
   "display_name": "Python 3",
   "language": "python",
   "name": "python3"
  },
  "language_info": {
   "codemirror_mode": {
    "name": "ipython",
    "version": 3
   },
   "file_extension": ".py",
   "mimetype": "text/x-python",
   "name": "python",
   "nbconvert_exporter": "python",
   "pygments_lexer": "ipython3",
   "version": "3.6.7"
  }
 },
 "nbformat": 4,
 "nbformat_minor": 2
}
